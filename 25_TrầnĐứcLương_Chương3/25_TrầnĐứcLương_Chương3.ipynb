{
 "cells": [
  {
   "cell_type": "markdown",
   "metadata": {},
   "source": [
    "## Câu 1: viết câu lệnh sql"
   ]
  },
  {
   "cell_type": "code",
   "execution_count": 75,
   "metadata": {},
   "outputs": [],
   "source": [
    "import sqlite3\n",
    "# Câu SQL tính hệ số tương quan Pearson\n",
    "query = \"\"\"\n",
    "SELECT \n",
    "    (COUNT(*) * SUM(A * B) - SUM(A) * SUM(B)) AS numerator,\n",
    "    SQRT(COUNT(*) * SUM(A * A) - SUM(A) * SUM(A)) AS denominator_a,\n",
    "    SQRT(COUNT(*) * SUM(B * B) - SUM(B) * SUM(B)) AS denominator_b\n",
    "FROM data\n",
    "\"\"\""
   ]
  },
  {
   "cell_type": "markdown",
   "metadata": {},
   "source": [
    "## Câu 2: thử nghiệm và chuyển đổi dữ liệu"
   ]
  },
  {
   "cell_type": "code",
   "execution_count": 1,
   "metadata": {},
   "outputs": [],
   "source": [
    "import sqlite3\n",
    "import pandas as pd\n",
    "conn = sqlite3.connect(\"abc.db\")\n",
    "cursor = conn.cursor()\n"
   ]
  },
  {
   "cell_type": "code",
   "execution_count": 2,
   "metadata": {},
   "outputs": [],
   "source": [
    "#Chuyển đổi thành dạng quan hệ\n",
    "cursor.execute(\"drop table if exists Eto_quanhe\")\n",
    "\n",
    "cursor.execute('''\n",
    "                    create table Eto_quanhe(\n",
    "                    ngay TEXT,\n",
    "                    Êtô TEXT,\n",
    "                    Diem REAL)\n",
    "\n",
    "''')\n",
    "\n",
    "conn.commit()\n",
    "cursor.executescript('''\n",
    "INSERT INTO Eto_quanhe (ngay, Êtô, Diem) VALUES\n",
    "('day 1', 'A', 8),\n",
    "('Day 1', 'B', 9),\n",
    "('Day 1', 'C', 7),\n",
    "('Day 2', 'A', 7.5),\n",
    "('Day 2', 'B', 8.5),\n",
    "('Day 2', 'C', 7),\n",
    "('Day 3', 'A', 6),\n",
    "('Day 3', 'B', 7),\n",
    "('Day 3', 'C', 8),\n",
    "('Day 4', 'A', 7),\n",
    "('Day 4', 'B', 6),\n",
    "('Day 4', 'C', 5);\n",
    "''')\n",
    "\n",
    "conn.commit()"
   ]
  },
  {
   "cell_type": "code",
   "execution_count": 3,
   "metadata": {},
   "outputs": [
    {
     "name": "stdout",
     "output_type": "stream",
     "text": [
      "('A', 'Trung bình', 1)\n",
      "('A', 'Tốt', 3)\n",
      "('B', 'Rất tốt', 1)\n",
      "('B', 'Trung bình', 1)\n",
      "('B', 'Tốt', 2)\n",
      "('C', 'Trung bình', 1)\n",
      "('C', 'Tốt', 3)\n"
     ]
    }
   ],
   "source": [
    "cursor.execute(\"DROP VIEW IF EXISTS Eto_chatluong\")\n",
    "\n",
    "cursor.execute('''\n",
    "CREATE VIEW Eto_chatluong AS\n",
    "SELECT\n",
    "    ngay,\n",
    "    Êtô,\n",
    "    Diem,\n",
    "    CASE\n",
    "        WHEN Diem < 5 THEN 'Kém'\n",
    "        WHEN Diem >= 5 AND Diem < 7 THEN 'Trung bình'\n",
    "        WHEN Diem >= 7 AND Diem < 9 THEN 'Tốt'\n",
    "        ELSE 'Rất tốt'\n",
    "    END AS chatluong\n",
    "FROM  Eto_quanhe;\n",
    "''')\n",
    "cursor.execute('''\n",
    "SELECT  Êtô, chatluong, COUNT(*) as count\n",
    "FROM Eto_chatluong\n",
    "GROUP BY  Êtô, chatluong\n",
    "ORDER BY  Êtô, chatluong;\n",
    "\n",
    "''')\n",
    "\n",
    "conn.commit()\n",
    "\n",
    "rows = cursor.fetchall()\n",
    "for row in rows:\n",
    "    print(row)\n",
    "\n",
    "conn.commit()"
   ]
  },
  {
   "cell_type": "code",
   "execution_count": 4,
   "metadata": {},
   "outputs": [
    {
     "name": "stdout",
     "output_type": "stream",
     "text": [
      "  Êtô   chatluong  soluong\n",
      "0   A  Trung bình        1\n",
      "1   A         Tốt        3\n",
      "2   B     Rất tốt        1\n",
      "3   B  Trung bình        1\n",
      "4   B         Tốt        2\n",
      "5   C  Trung bình        1\n",
      "6   C         Tốt        3\n"
     ]
    }
   ],
   "source": [
    "import pandas as pd\n",
    "\n",
    "df = pd.read_sql_query('''\n",
    "SELECT Êtô, chatluong, COUNT(*) as soluong\n",
    "FROM  Eto_chatluong\n",
    "GROUP BY Êtô, chatluong\n",
    "''', conn)\n",
    "\n",
    "print(df)"
   ]
  },
  {
   "cell_type": "code",
   "execution_count": 5,
   "metadata": {},
   "outputs": [
    {
     "name": "stdout",
     "output_type": "stream",
     "text": [
      "chatluong  Rất tốt  Trung bình  Tốt\n",
      "Êtô                                \n",
      "A              0.0         1.0  3.0\n",
      "B              1.0         1.0  2.0\n",
      "C              0.0         1.0  3.0\n",
      "Chi-squared: 2.25\n",
      "p-value: 0.6898864931364932\n"
     ]
    }
   ],
   "source": [
    "from scipy.stats import chi2_contingency\n",
    "\n",
    "# Pivot để có ma trận tần suất\n",
    "table = df.pivot(index='Êtô', columns='chatluong', values='soluong').fillna(0)\n",
    "print(table)\n",
    "\n",
    "chi2, p, dof, expected = chi2_contingency(table)\n",
    "print(\"Chi-squared:\", chi2)\n",
    "print(\"p-value:\", p)\n"
   ]
  },
  {
   "cell_type": "markdown",
   "metadata": {},
   "source": [
    "Kết quả kiểm định Chi-squared: Giá trị Chi-squared = 2.25\n",
    "\n",
    "p-value = 0.6899\n",
    "\n",
    "Vì p-value lớn hơn 0.05, ta không có đủ bằng chứng thống kê để bác bỏ giả thuyết không (H₀), tức là:\n",
    "\n",
    "Không có sự khác biệt đáng kể về điểm số giữa các mẫu xe\n",
    "\n",
    "Kết luận: Không có mẫu xe nào nổi bật\n",
    "\n",
    "Phân phối điểm số không phụ thuộc vào loại xe"
   ]
  },
  {
   "cell_type": "markdown",
   "metadata": {},
   "source": [
    "## Câu 3\n",
    "### Bảng flights(departure_time,…) chứa các giá trị thời gian dưới dạng số nguyên (ví dụ: 830 cho 8:30 AM, 1445 cho 2:45 PM). Hãy chuyển đổi các giá trị này thành định dạng thời gian"
   ]
  },
  {
   "cell_type": "code",
   "execution_count": 81,
   "metadata": {},
   "outputs": [],
   "source": [
    "import sqlite3\n",
    "import pandas as pd\n",
    "\n",
    "# Tạo kết nối SQLite\n",
    "conn = sqlite3.connect(\":memory:\")\n",
    "cursor = conn.cursor()\n",
    "\n",
    "# Tạo bảng flights\n",
    "cursor.execute(\"\"\"\n",
    "CREATE TABLE flights (\n",
    "    id INTEGER PRIMARY KEY,\n",
    "    departure_time INTEGER\n",
    ")\n",
    "\"\"\")\n",
    "\n",
    "# Thêm dữ liệu giả lập\n",
    "data = [(1, 830), (2, 1445), (3,123 ), (4,234 ), (5, 456)]\n",
    "cursor.executemany(\"INSERT INTO flights (id, departure_time) VALUES (?, ?)\", data)\n",
    "conn.commit()"
   ]
  },
  {
   "cell_type": "code",
   "execution_count": 82,
   "metadata": {},
   "outputs": [
    {
     "name": "stdout",
     "output_type": "stream",
     "text": [
      "   id  departure_time departure_time_formatted\n",
      "0   1             830                    08:30\n",
      "1   2            1445                    14:45\n",
      "2   3             123                    01:23\n",
      "3   4             234                    02:34\n",
      "4   5             456                    04:56\n"
     ]
    }
   ],
   "source": [
    "query = \"\"\"\n",
    "SELECT \n",
    "    id,\n",
    "    departure_time,\n",
    "    printf('%02d:%02d', departure_time / 100, departure_time % 100) AS departure_time_formatted\n",
    "FROM flights\n",
    "\"\"\"\n",
    "df = pd.read_sql_query(query, conn)\n",
    "print(df)"
   ]
  },
  {
   "cell_type": "markdown",
   "metadata": {},
   "source": [
    "## Câu 4: \n",
    "### Viết truy vấn SQL để tìm các ngoại lệ bằng cách sử dụng MAD. Một quy tắc chung là xem xét các giá trị ngoại lệ lớn hơn 1,5 lần so với giá trị MAD, trong đó x là số độ lệch chuẩn mà ta coi là có ý nghĩa.\n"
   ]
  },
  {
   "cell_type": "code",
   "execution_count": 26,
   "metadata": {},
   "outputs": [
    {
     "name": "stdout",
     "output_type": "stream",
     "text": [
      "Median = 101.0\n",
      "MAD = 89.0\n",
      "Ngưỡng ngoại lệ (1.5×MAD): ±133.5\n",
      "Giá trị ngoại lệ: []\n"
     ]
    }
   ],
   "source": [
    "cursor.execute(\"DROP TABLE IF EXISTS data\")\n",
    "cursor.execute(\"CREATE TABLE data(val REAL)\")\n",
    "\n",
    "#  Chèn dữ liệu mẫu\n",
    "values = [(0,), (126,), (132,), (12,), (101,), (200,), (12,), (13,), (191,), (10,), (200,)]\n",
    "cursor.executemany(\"INSERT INTO data(val) VALUES (?)\", values)\n",
    "conn.commit()\n",
    "\n",
    "#  Tính med\n",
    "cursor.execute(\"\"\"\n",
    "SELECT val FROM data ORDER BY val\n",
    "\"\"\")\n",
    "vals = [row[0] for row in cursor.fetchall()]\n",
    "n = len(vals)\n",
    "median = (vals[n // 2] if n % 2 == 1 else (vals[n // 2 - 1] + vals[n // 2]) / 2)\n",
    "\n",
    "# Tính |xi - median|\n",
    "abs_devs = [abs(v - median) for v in vals]\n",
    "abs_devs.sort()\n",
    "mad = (abs_devs[n // 2] if n % 2 == 1 else (abs_devs[n // 2 - 1] + abs_devs[n // 2]) / 2)\n",
    "\n",
    "# Chọn các giá trị là ngoại lệ (vượt 1.5 × MAD)\n",
    "threshold = 1.5 * mad\n",
    "outliers = [v for v in vals if abs(v - median) > threshold]\n",
    "\n",
    "#  Xuất kết quả\n",
    "print(f\"Median = {median}\")\n",
    "print(f\"MAD = {mad}\")\n",
    "print(f\"Ngưỡng ngoại lệ (1.5×MAD): ±{threshold}\")\n",
    "print(\"Giá trị ngoại lệ:\", outliers)"
   ]
  },
  {
   "cell_type": "markdown",
   "metadata": {},
   "source": [
    "## Câu 5: \n",
    "### Hãy xác định liệu hai người trong bảng Patient(last_name, weight, height) có phải là một người hay không bằng cách sử dụng khoảng cách kết hợp Boolean trên “last_name” và “weight”."
   ]
  },
  {
   "cell_type": "code",
   "execution_count": null,
   "metadata": {},
   "outputs": [
    {
     "name": "stdout",
     "output_type": "stream",
     "text": [
      "(1, 2, 1, 1, 1)\n",
      "(1, 3, 0, 0, 0)\n",
      "(1, 4, 1, 0, 0)\n",
      "(1, 5, 0, 0, 0)\n",
      "(1, 6, 1, 1, 1)\n",
      "(1, 7, 0, 0, 0)\n",
      "(1, 8, 1, 0, 0)\n",
      "(1, 9, 0, 0, 0)\n",
      "(1, 10, 1, 1, 1)\n",
      "(1, 11, 0, 0, 0)\n",
      "(1, 12, 1, 0, 0)\n",
      "(2, 3, 0, 0, 0)\n",
      "(2, 4, 1, 0, 0)\n",
      "(2, 5, 0, 0, 0)\n",
      "(2, 6, 1, 1, 1)\n",
      "(2, 7, 0, 0, 0)\n",
      "(2, 8, 1, 0, 0)\n",
      "(2, 9, 0, 0, 0)\n",
      "(2, 10, 1, 1, 1)\n",
      "(2, 11, 0, 0, 0)\n",
      "(2, 12, 1, 0, 0)\n",
      "(3, 4, 0, 0, 0)\n",
      "(3, 5, 0, 0, 0)\n",
      "(3, 6, 0, 0, 0)\n",
      "(3, 7, 1, 1, 1)\n",
      "(3, 8, 0, 0, 0)\n",
      "(3, 9, 0, 0, 0)\n",
      "(3, 10, 0, 0, 0)\n",
      "(3, 11, 1, 1, 1)\n",
      "(3, 12, 0, 0, 0)\n",
      "(4, 5, 0, 0, 0)\n",
      "(4, 6, 1, 0, 0)\n",
      "(4, 7, 0, 0, 0)\n",
      "(4, 8, 1, 1, 1)\n",
      "(4, 9, 0, 0, 0)\n",
      "(4, 10, 1, 0, 0)\n",
      "(4, 11, 0, 0, 0)\n",
      "(4, 12, 1, 1, 1)\n",
      "(5, 6, 0, 0, 0)\n",
      "(5, 7, 0, 0, 0)\n",
      "(5, 8, 0, 0, 0)\n",
      "(5, 9, 1, 1, 1)\n",
      "(5, 10, 0, 0, 0)\n",
      "(5, 11, 0, 0, 0)\n",
      "(5, 12, 0, 0, 0)\n",
      "(6, 7, 0, 0, 0)\n",
      "(6, 8, 1, 0, 0)\n",
      "(6, 9, 0, 0, 0)\n",
      "(6, 10, 1, 1, 1)\n",
      "(6, 11, 0, 0, 0)\n",
      "(6, 12, 1, 0, 0)\n",
      "(7, 8, 0, 0, 0)\n",
      "(7, 9, 0, 0, 0)\n",
      "(7, 10, 0, 0, 0)\n",
      "(7, 11, 1, 1, 1)\n",
      "(7, 12, 0, 0, 0)\n",
      "(8, 9, 0, 0, 0)\n",
      "(8, 10, 1, 0, 0)\n",
      "(8, 11, 0, 0, 0)\n",
      "(8, 12, 1, 1, 1)\n",
      "(9, 10, 0, 0, 0)\n",
      "(9, 11, 0, 0, 0)\n",
      "(9, 12, 0, 0, 0)\n",
      "(10, 11, 0, 0, 0)\n",
      "(10, 12, 1, 0, 0)\n",
      "(11, 12, 0, 0, 0)\n"
     ]
    }
   ],
   "source": [
    "cursor.execute(\"DROP TABLE IF EXISTS Patient\")\n",
    "cursor.execute(\"\"\"\n",
    "CREATE TABLE Patient (\n",
    "    id INTEGER PRIMARY KEY,\n",
    "    last_name TEXT,\n",
    "    weight REAL,\n",
    "    height REAL\n",
    ")\n",
    "\"\"\")\n",
    "\n",
    "#  Thêm dữ liệu mẫu\n",
    "patients = [\n",
    "    (1, 'Nguyen', 60, 170),\n",
    "    (2, 'Nguyen', 60, 171),  \n",
    "    (3, 'Tran', 58, 165),\n",
    "    (4, 'Nguyen', 65, 170),\n",
    "    (5, 'Le', 70, 175),\n",
    "    (6, 'Nguyen', 60, 170),  \n",
    "    (7, 'Tran', 58, 165),\n",
    "    (8, 'Nguyen', 65, 170),\n",
    "    (9, 'Le', 70, 175),\n",
    "    (10, 'Nguyen', 60, 170),  \n",
    "    (11, 'Tran', 58, 165),\n",
    "    (12, 'Nguyen', 65, 170) \n",
    "]\n",
    "\n",
    "cursor.executemany(\"INSERT INTO Patient VALUES (?, ?, ?, ?)\", patients)\n",
    "conn.commit()\n",
    "\n",
    "#  Truy vấn kết hợp từng cặp và tính \"khoảng cách Boolean\"\n",
    "cursor.execute(\"\"\"\n",
    "SELECT \n",
    "    p1.id AS id1,\n",
    "    p2.id AS id2,\n",
    "    p1.last_name = p2.last_name AS same_last_name,\n",
    "    p1.weight = p2.weight AS same_weight,\n",
    "    (p1.last_name = p2.last_name AND p1.weight = p2.weight) AS is_same_person\n",
    "FROM Patient p1\n",
    "JOIN Patient p2 ON p1.id < p2.id\n",
    "\"\"\")\n",
    "for i in cursor:\n",
    "    print(i)"
   ]
  }
 ],
 "metadata": {
  "kernelspec": {
   "display_name": "Python 3",
   "language": "python",
   "name": "python3"
  },
  "language_info": {
   "codemirror_mode": {
    "name": "ipython",
    "version": 3
   },
   "file_extension": ".py",
   "mimetype": "text/x-python",
   "name": "python",
   "nbconvert_exporter": "python",
   "pygments_lexer": "ipython3",
   "version": "3.7.9"
  }
 },
 "nbformat": 4,
 "nbformat_minor": 2
}
